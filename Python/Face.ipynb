{
 "cells": [
  {
   "cell_type": "markdown",
   "metadata": {},
   "source": [
    "# Face Detection/Recognition/Manipulation"
   ]
  },
  {
   "cell_type": "code",
   "execution_count": null,
   "metadata": {},
   "outputs": [],
   "source": [
    "import numpy as np\n",
    "from skimage.feature import hog\n",
    "from skimage import data, exposure\n",
    "import face_recognition\n",
    "\n",
    "from PIL import Image, ImageEnhance, ImageDraw\n",
    "import IPython.display\n",
    "import matplotlib.pyplot as plt\n",
    "import matplotlib.patches as patches\n",
    "%matplotlib inline\n",
    "\n",
    "font_config = {'size': 16}\n",
    "fig_config = {'figsize': (12, 8)}\n",
    "line_config = {'linewidth': 4}\n",
    "plt.rc('font', **font_config)\n",
    "plt.rc('figure', **fig_config)\n",
    "plt.rc('lines', **line_config)\n",
    "\n",
    "rc = {\"axes.spines.left\" : False,\n",
    "      \"axes.spines.right\" : False,\n",
    "      \"axes.spines.bottom\" : False,\n",
    "      \"axes.spines.top\" : False,\n",
    "      \"xtick.bottom\" : False,\n",
    "      \"xtick.labelbottom\" : False,\n",
    "      \"ytick.labelleft\" : False,\n",
    "      \"ytick.left\" : False}\n",
    "plt.rcParams.update(rc)"
   ]
  },
  {
   "cell_type": "markdown",
   "metadata": {},
   "source": [
    "## 1. Find faces in a picture"
   ]
  },
  {
   "cell_type": "markdown",
   "metadata": {},
   "source": [
    "## 1.1 Histogram of Oriented Gradients (HOG) visualization"
   ]
  },
  {
   "cell_type": "code",
   "execution_count": null,
   "metadata": {},
   "outputs": [],
   "source": [
    "image = face_recognition.load_image_file(\"img/angelina_jolie.jpg\")\n",
    "\n",
    "fd, hog_image = hog(image, orientations=8, pixels_per_cell=(16, 16),\n",
    "                    cells_per_block=(1, 1), visualize=True, multichannel=True)\n",
    "\n",
    "fig, ax = plt.subplots(1, 2)\n",
    "\n",
    "ax[0].imshow(image, cmap=plt.cm.gray)\n",
    "ax[0].set_title('Input image')\n",
    "\n",
    "# Rescale histogram for better display\n",
    "hog_image_rescaled = exposure.rescale_intensity(hog_image, in_range=(0, 10))\n",
    "\n",
    "ax[1].imshow(hog_image_rescaled, cmap=plt.cm.gray)\n",
    "ax[1].set_title('Histogram of Oriented Gradients')\n",
    "plt.show()"
   ]
  },
  {
   "cell_type": "markdown",
   "metadata": {},
   "source": [
    "Try it with your own image"
   ]
  },
  {
   "cell_type": "code",
   "execution_count": null,
   "metadata": {},
   "outputs": [],
   "source": []
  },
  {
   "cell_type": "markdown",
   "metadata": {},
   "source": [
    "You can see here HOG will be same for different lighting condition"
   ]
  },
  {
   "cell_type": "code",
   "execution_count": null,
   "metadata": {},
   "outputs": [],
   "source": [
    "# Increase or decrease the brightness of an image\n",
    "pil_image = Image.fromarray(image)\n",
    "enhancer = ImageEnhance.Brightness(pil_image)\n",
    "enhanced_im = enhancer.enhance(0.2)\n",
    "\n",
    "fd1, hog_image_enhanced= hog(image, orientations=8, pixels_per_cell=(16, 16),\n",
    "                    cells_per_block=(1, 1), visualize=True, multichannel=True)\n",
    "\n",
    "\n",
    "# Rescale histogram for better display\n",
    "hog_image = exposure.rescale_intensity(hog_image, in_range=(0, 10))\n",
    "hog_image_enhanced = exposure.rescale_intensity(hog_image_enhanced, in_range=(0, 10))\n",
    "\n",
    "fig, axarr = plt.subplots(2, 2, figsize=(10,10))\n",
    "\n",
    "axarr[0,0].imshow(image, cmap=plt.cm.gray)\n",
    "\n",
    "axarr[0,1].imshow(hog_image, cmap=plt.cm.gray)\n",
    "\n",
    "axarr[1,0].imshow(enhanced_im, cmap=plt.cm.gray)\n",
    "\n",
    "axarr[1,1].imshow(hog_image_enhanced, cmap=plt.cm.gray)\n",
    "\n",
    "plt.tight_layout()\n",
    "plt.show()"
   ]
  },
  {
   "cell_type": "markdown",
   "metadata": {},
   "source": [
    "Change the brightness ratio and see the effect "
   ]
  },
  {
   "cell_type": "markdown",
   "metadata": {},
   "source": [
    "## 1.2 Automatically find all the faces in an image"
   ]
  },
  {
   "cell_type": "code",
   "execution_count": null,
   "metadata": {},
   "outputs": [],
   "source": [
    "# Load the jpg file into a numpy array\n",
    "image = face_recognition.load_image_file(\"img/multiple_people.jpg\")\n",
    "\n",
    "# Find all the faces in the image using the default HOG-based model.\n",
    "# < Write code here >\n",
    "\n",
    "fig,ax = plt.subplots(1)\n",
    "ax.imshow(image)\n",
    "\n",
    "print(\"I found {} face(s) in this photograph.\".format(len(face_locations)))\n",
    "print(\"\\t Top\\tLeft\\tBottom\\tRight\")\n",
    "\n",
    "for i, face_location in enumerate(face_locations):\n",
    "\n",
    "    # Print the location of each face in this image\n",
    "    top, right, bottom, left = face_location\n",
    "    print(\"{}\\t|{}\\t{}\\t{}\\t{}\".format(i,top, left, bottom, right))\n",
    "\n",
    "    # Draw a box around the face\n",
    "    ax.add_patch(patches.Rectangle((left, top), right-left, bottom-top, fill=False)) \n",
    "    \n",
    "# Display the result\n",
    "plt.tight_layout()\n",
    "plt.show()"
   ]
  },
  {
   "cell_type": "markdown",
   "metadata": {},
   "source": [
    "Now, try to crop faces instead of draw a rectangle"
   ]
  },
  {
   "cell_type": "code",
   "execution_count": null,
   "metadata": {},
   "outputs": [],
   "source": [
    "fig,ax = plt.subplots(1, len(face_locations))\n",
    "for i, face_location in enumerate(face_locations):\n",
    "\n",
    "    top, right, bottom, left = face_location   \n",
    "    #Add the code to extract face_image from image given the top, right, bottom and left\n",
    "    face_image = image[top:bottom, left:right]\n",
    "    \n",
    "    ax[i].imshow(face_image)\n",
    "plt.tight_layout()"
   ]
  },
  {
   "cell_type": "markdown",
   "metadata": {},
   "source": [
    "Finding all the faces in the image using the default HOG-based model is fairly accurate, but not as accurate as the CNN model\n",
    "So we can use a pre-trained convolutional neural network.\n",
    "This method is more accurate than the default HOG model, but it's slower"
   ]
  },
  {
   "cell_type": "markdown",
   "metadata": {},
   "source": [
    "Let's find all faces using CNN"
   ]
  },
  {
   "cell_type": "code",
   "execution_count": null,
   "metadata": {},
   "outputs": [],
   "source": [
    "# Hint: Replace this code\n",
    "face_locations = face_recognition.face_locations(image, model=\"cnn\")"
   ]
  },
  {
   "cell_type": "markdown",
   "metadata": {},
   "source": [
    "### Use random colors to draw a box around every faces\n",
    "Hint: We define every color by 3 value of R (red), G (green) and B (blue)."
   ]
  },
  {
   "cell_type": "code",
   "execution_count": null,
   "metadata": {},
   "outputs": [],
   "source": [
    "# Draw a box around the faces with different colors\n",
    "color = tuple(np.random.rand(3))\n",
    "ax.add_patch(patches.Rectangle((left, top), right-left, bottom-top, fill=False, color=color))"
   ]
  },
  {
   "cell_type": "markdown",
   "metadata": {},
   "source": [
    "## 2. Find and manipulate facial features in a picture"
   ]
  },
  {
   "cell_type": "markdown",
   "metadata": {},
   "source": [
    "### 2.1 Find facial features"
   ]
  },
  {
   "cell_type": "code",
   "execution_count": null,
   "metadata": {},
   "outputs": [],
   "source": [
    "# Load the jpg file into a numpy array\n",
    "image = face_recognition.load_image_file(\"img/angelina_jolie.jpg\")\n",
    "\n",
    "# Find all facial features in all the faces in the image\n",
    "# < Write code here >\n",
    "face_landmarks_list = face_recognition.face_landmarks(image)\n",
    "\n",
    "print(\"I found {} face(s) in this photograph.\".format(len(face_landmarks_list)))\n",
    "\n",
    "# Create a PIL imagedraw object so we can draw on the picture\n",
    "pil_image = Image.fromarray(image)\n",
    "draw = ImageDraw.Draw(pil_image)\n",
    "\n",
    "for face_landmarks in face_landmarks_list:\n",
    "\n",
    "    # Print the location of each facial feature in this image\n",
    "    for facial_feature in face_landmarks.keys():\n",
    "        print(\"{}\\t :{}\".format(facial_feature, face_landmarks[facial_feature]))\n",
    "\n",
    "    # Let's trace out each facial feature in the image with a line!\n",
    "    for facial_feature in face_landmarks.keys():\n",
    "        draw.line(face_landmarks[facial_feature], width=5)\n",
    "\n",
    "# Display the result\n",
    "plt.imshow(pil_image)"
   ]
  },
  {
   "cell_type": "markdown",
   "metadata": {},
   "source": [
    "### 2.2 Applying digital makeup (horribly ugly!)"
   ]
  },
  {
   "cell_type": "code",
   "execution_count": null,
   "metadata": {},
   "outputs": [],
   "source": [
    "pil_image_modified = Image.fromarray(image)\n",
    "for face_landmarks in face_landmarks_list:\n",
    "    d = ImageDraw.Draw(pil_image_modified, 'RGBA')\n",
    "\n",
    "    # Make the eyebrows into a nightmare\n",
    "    eyebrow_color = (68, 54, 39, 128)\n",
    "    d.polygon(face_landmarks['left_eyebrow'], fill=eyebrow_color)\n",
    "    d.polygon(face_landmarks['right_eyebrow'], fill=eyebrow_color)\n",
    "    d.line(face_landmarks['left_eyebrow'], fill=eyebrow_color, width=5)\n",
    "    d.line(face_landmarks['right_eyebrow'], fill=eyebrow_color, width=5)\n",
    "\n",
    "    # Gloss the lips\n",
    "    d.polygon(face_landmarks['top_lip'], fill=(150, 0, 0, 128))\n",
    "    d.polygon(face_landmarks['bottom_lip'], fill=(150, 0, 0, 128))\n",
    "    d.line(face_landmarks['top_lip'], fill=(150, 0, 0, 64), width=8)\n",
    "    d.line(face_landmarks['bottom_lip'], fill=(150, 0, 0, 64), width=8)\n",
    "\n",
    "    # Sparkle the eyes\n",
    "    d.polygon(face_landmarks['left_eye'], fill=(255, 255, 255, 30))\n",
    "    # < Write code here >\n",
    "\n",
    "    # Apply some eyeliner\n",
    "    d.line(face_landmarks['left_eye'] + [face_landmarks['left_eye'][0]], fill=(0, 0, 0, 110), width=6)\n",
    "    # < Write code here >\n",
    "    \n",
    "\n",
    "# Display result\n",
    "plt.imshow(pil_image_modified)"
   ]
  },
  {
   "cell_type": "markdown",
   "metadata": {},
   "source": [
    "Try out different images (e.g. multiple_people.jpg) or your image, and different makeup"
   ]
  },
  {
   "cell_type": "code",
   "execution_count": null,
   "metadata": {},
   "outputs": [],
   "source": [
    "# insert code here"
   ]
  },
  {
   "cell_type": "markdown",
   "metadata": {},
   "source": [
    "## 3. Identify faces in a picture"
   ]
  },
  {
   "cell_type": "markdown",
   "metadata": {},
   "source": [
    "### 3.1 Identify and draw boxes on faces"
   ]
  },
  {
   "cell_type": "code",
   "execution_count": null,
   "metadata": {},
   "outputs": [],
   "source": [
    "# This is an example of running face recognition on a single image\n",
    "# and drawing a box around each person that was identified.\n",
    "\n",
    "# Load a sample picture and learn how to recognize it.\n",
    "obama_image = face_recognition.load_image_file(\"img/obama.jpg\")\n",
    "obama_face_encoding = face_recognition.face_encodings(obama_image)[0]\n",
    "\n",
    "# Load a second sample picture and learn how to recognize it.\n",
    "biden_image = face_recognition.load_image_file(\"img/biden.jpg\")\n",
    "biden_face_encoding = face_recognition.face_encodings(biden_image)[0]\n",
    "\n",
    "# Create arrays of known face encodings and their names\n",
    "known_face_encodings = [\n",
    "    obama_face_encoding,\n",
    "    biden_face_encoding\n",
    "]\n",
    "known_face_names = [\n",
    "    \"Barack Obama\",\n",
    "    \"Joe Biden\"\n",
    "]\n",
    "\n",
    "# Load an image with an unknown face\n",
    "unknown_image = face_recognition.load_image_file(\"img/two_people.jpg\")\n",
    "\n",
    "# Find all the faces and face encodings in the unknown image\n",
    "face_locations = face_recognition.face_locations(unknown_image)\n",
    "face_encodings = face_recognition.face_encodings(unknown_image, face_locations)\n",
    "\n",
    "fig = plt.figure(\"encodings\")\n",
    "plt.plot(obama_face_encoding, label='obame_known')\n",
    "plt.plot(biden_face_encoding, label='biden_known')\n",
    "plt.plot(face_encodings[0], label='unknown[0]')\n",
    "plt.legend()\n",
    "plt.show()"
   ]
  },
  {
   "cell_type": "code",
   "execution_count": null,
   "metadata": {},
   "outputs": [],
   "source": [
    "plt.figure()\n",
    "top, right, bottom, left = face_locations[0]\n",
    "unknown_image_0 = unknown_image[top:bottom, left:right]\n",
    "plt.imshow(unknown_image_0)\n",
    "plt.show()"
   ]
  },
  {
   "cell_type": "code",
   "execution_count": null,
   "metadata": {},
   "outputs": [],
   "source": [
    "fig,ax = plt.subplots(1)\n",
    "ax.imshow(unknown_image)\n",
    "\n",
    "\n",
    "# Loop through each face found in the unknown image\n",
    "for (top, right, bottom, left), face_encoding in zip(face_locations, face_encodings):\n",
    "    # See if the face is a match for the known face(s)\n",
    "    matches = face_recognition.compare_faces(known_face_encodings, face_encoding)\n",
    "\n",
    "    name = \"Unknown\"\n",
    "\n",
    "\n",
    "    #use the known face with the smallest distance to the new face\n",
    "    face_distances = face_recognition.face_distance(known_face_encodings, face_encoding)\n",
    "    best_match_index = np.argmin(face_distances)\n",
    "    if matches[best_match_index]:\n",
    "       name = known_face_names[best_match_index]\n",
    "\n",
    "    # Draw a box around the face\n",
    "    color = tuple(np.random.rand(3))\n",
    "    ax.add_patch(patches.Rectangle((left, top), right-left, bottom-top, fill=False, color=color)) \n",
    "    # Add the name under the face bounding box\n",
    "    ax.text(left, bottom, name,  horizontalalignment='left', verticalalignment='top',\n",
    "            bbox={'facecolor':color,'alpha':0.5, 'pad':1})\n",
    "\n",
    "plt.tight_layout()\n",
    "plt.show()"
   ]
  },
  {
   "cell_type": "markdown",
   "metadata": {},
   "source": [
    "Let's do it by your own images"
   ]
  },
  {
   "cell_type": "code",
   "execution_count": null,
   "metadata": {},
   "outputs": [],
   "source": []
  },
  {
   "cell_type": "markdown",
   "metadata": {},
   "source": [
    "### 3.2 Recognize faces in a picture"
   ]
  },
  {
   "cell_type": "code",
   "execution_count": null,
   "metadata": {},
   "outputs": [],
   "source": [
    "# Load the jpg files into numpy arrays\n",
    "unknown_image = face_recognition.load_image_file(\"img/obama2.jpg\")\n",
    "\n",
    "# Get the face encodings for each face in each image file\n",
    "# Since there could be more than one face in each image, it returns a list of encodings.\n",
    "# But since I know each image only has one face, I only care about the first encoding in each image, so I grab index 0.\n",
    "try:\n",
    "    biden_face_encoding = face_recognition.face_encodings(biden_image)[0]\n",
    "    obama_face_encoding = face_recognition.face_encodings(obama_image)[0]\n",
    "    unknown_face_encoding = face_recognition.face_encodings(unknown_image)[0]\n",
    "except IndexError:\n",
    "    print(\"I wasn't able to locate any faces in at least one of the images. Check the image files. Aborting...\")\n",
    "    quit()\n",
    "\n",
    "known_faces = [\n",
    "    biden_face_encoding,\n",
    "    obama_face_encoding\n",
    "]\n",
    "\n",
    "# results is an array of True/False telling if the unknown face matched anyone in the known_faces array\n",
    "results = face_recognition.compare_faces(known_faces, unknown_face_encoding)\n",
    "\n",
    "print(\"Is the unknown face a picture of Biden? {}\".format(results[0]))\n",
    "print(\"Is the unknown face a picture of Obama? {}\".format(results[1]))\n",
    "print(\"Is the unknown face a new person that we've never seen before? {}\".format(not True in results))"
   ]
  },
  {
   "cell_type": "markdown",
   "metadata": {},
   "source": [
    "### 3.3 Face distance to measure the similarity between two faces"
   ]
  },
  {
   "cell_type": "markdown",
   "metadata": {},
   "source": [
    "Often instead of just checking if two faces match or not (True or False), it's helpful to see how similar they are.\n",
    "You can do that by using the face_distance function."
   ]
  },
  {
   "cell_type": "code",
   "execution_count": null,
   "metadata": {},
   "outputs": [],
   "source": [
    "# The model was trained in a way that faces with a distance of 0.6 or less should be a match. But if you want to\n",
    "# be more strict, you can look for a smaller face distance. For example, using a 0.55 cutoff would reduce false\n",
    "# positive matches at the risk of more false negatives.\n",
    "\n",
    "# Note: This isn't exactly the same as a \"percent match\". The scale isn't linear. But you can assume that images with a\n",
    "# smaller distance are more similar to each other than ones with a larger distance.\n",
    "\n",
    "\n",
    "# Load some images to compare against\n",
    "known_obama_image = face_recognition.load_image_file(\"img/obama.jpg\")\n",
    "known_biden_image = face_recognition.load_image_file(\"img/biden.jpg\")\n",
    "\n",
    "# Get the face encodings for the known images\n",
    "obama_face_encoding = face_recognition.face_encodings(known_obama_image)[0]\n",
    "biden_face_encoding = face_recognition.face_encodings(known_biden_image)[0]\n",
    "\n",
    "known_encodings = [\n",
    "    obama_face_encoding,\n",
    "    biden_face_encoding\n",
    "]\n",
    "\n",
    "# Load a test image and get encondings for it\n",
    "image_to_test = face_recognition.load_image_file(\"img/obama2.jpg\")\n",
    "image_to_test_encoding = face_recognition.face_encodings(image_to_test)[0]\n",
    "\n",
    "# See how far apart the test image is from the known faces\n",
    "face_distances = face_recognition.face_distance(known_encodings, image_to_test_encoding)\n",
    "\n",
    "\n",
    "for i, face_distance in enumerate(face_distances):\n",
    "    print(\"The test image has a distance of {:.2} from known image #{}\".format(face_distance, i))\n",
    "    print(\"- With a high cutoff of 1.0, would the test image match the known image? {}\".format(face_recognition.compare_faces([known_encodings[i]], image_to_test_encoding, tolerance=1.0)))\n",
    "    print(\"- With a normal cutoff of 0.6, would the test image match the known image? {}\".format(face_recognition.compare_faces([known_encodings[i]], image_to_test_encoding, tolerance=0.6)))\n",
    "    print(\"- With a very strict cutoff of 0.2, would the test image match the known image? {}\".format(face_recognition.compare_faces([known_encodings[i]], image_to_test_encoding, tolerance=0.2)))\n",
    "    print()"
   ]
  },
  {
   "cell_type": "markdown",
   "metadata": {},
   "source": [
    "## 5. Recognize faces with a K-nearest neighbors classifier"
   ]
  },
  {
   "cell_type": "markdown",
   "metadata": {},
   "source": [
    "This example is useful when you wish to recognize a large set of known people, and make a prediction for an unknown person in a feasible computation time.\n",
    "\n",
    "Algorithm Description:\n",
    "The knn classifier is first trained on a set of labeled (known) faces and can then predict the person\n",
    "in an unknown image by finding the k most similar faces (images with closet face-features under eucledian distance) in its training set, and performing a majority vote (possibly weighted) on their label.\n",
    "\n",
    "For example, if k=3, and the three closest face images to the given image in the training set are one image of Biden and two images of Obama, The result would be 'Obama'.\n",
    "* This implementation uses a weighted vote, such that the votes of closer-neighbors are weighted more heavily.\n",
    "\n",
    "Usage:\n",
    "1. Prepare a set of images of the known people you want to recognize. Organize the images in a single directory\n",
    "   with a sub-directory for each known person.\n",
    "2. Then, call the 'train' function with the appropriate parameters. Make sure to pass in the 'model_save_path' if you\n",
    "   want to save the model to disk so you can re-use the model without having to re-train it.\n",
    "3. Call 'predict' and pass in your trained model to recognize the people in an unknown image."
   ]
  },
  {
   "cell_type": "code",
   "execution_count": null,
   "metadata": {},
   "outputs": [],
   "source": [
    "import math\n",
    "import os\n",
    "import os.path\n",
    "import pickle\n",
    "\n",
    "from sklearn import neighbors\n",
    "from face_recognition.face_recognition_cli import image_files_in_folder\n",
    "\n",
    "ALLOWED_EXTENSIONS = {'png', 'jpg', 'jpeg'}"
   ]
  },
  {
   "cell_type": "markdown",
   "metadata": {},
   "source": [
    "Trains a k-nearest neighbors classifier for face recognition."
   ]
  },
  {
   "cell_type": "code",
   "execution_count": null,
   "metadata": {},
   "outputs": [],
   "source": [
    "def train(train_dir, model_save_path=None, n_neighbors=None, knn_algo='ball_tree', verbose=False):\n",
    "    '''\n",
    "    :param train_dir: directory that contains a sub-directory for each known person, with its name.\n",
    "     (View in source code to see train_dir example tree structure)\n",
    "     Structure:\n",
    "        <train_dir>/\n",
    "        ├── <person1>/\n",
    "        │   ├── <somename1>.jpeg\n",
    "        │   ├── <somename2>.jpeg\n",
    "        │   ├── ...\n",
    "        ├── <person2>/\n",
    "        │   ├── <somename1>.jpeg\n",
    "        │   └── <somename2>.jpeg\n",
    "        └── ...\n",
    "    :param model_save_path: (optional) path to save model on disk\n",
    "    :param n_neighbors: (optional) number of neighbors to weigh in classification. Chosen automatically if not specified\n",
    "    :param knn_algo: (optional) underlying data structure to support knn.default is ball_tree\n",
    "    :param verbose: verbosity of training\n",
    "    :return: returns knn classifier that was trained on the given data.\n",
    "     '''\n",
    "    X = []\n",
    "    y = []\n",
    "\n",
    "    # Loop through each person in the training set\n",
    "    for class_dir in os.listdir(train_dir):\n",
    "        if not os.path.isdir(os.path.join(train_dir, class_dir)):\n",
    "            continue\n",
    "\n",
    "        # Loop through each training image for the current person\n",
    "        for img_path in image_files_in_folder(os.path.join(train_dir, class_dir)):\n",
    "            image = face_recognition.load_image_file(img_path)\n",
    "            face_bounding_boxes = face_recognition.face_locations(image)\n",
    "\n",
    "            if len(face_bounding_boxes) != 1:\n",
    "                # If there are no people (or too many people) in a training image, skip the image.\n",
    "                if verbose:\n",
    "                    print(\"Image {} not suitable for training: {}\".format(img_path, \"Didn't find a face\" if len(face_bounding_boxes) < 1 else \"Found more than one face\"))\n",
    "            else:\n",
    "                # Add face encoding for current image to the training set\n",
    "                X.append(face_recognition.face_encodings(image, known_face_locations=face_bounding_boxes)[0])\n",
    "                y.append(class_dir)\n",
    "\n",
    "    # Determine how many neighbors to use for weighting in the KNN classifier\n",
    "    if n_neighbors is None:\n",
    "        n_neighbors = int(round(math.sqrt(len(X))))\n",
    "        if verbose:\n",
    "            print(\"Chose n_neighbors automatically:\", n_neighbors)\n",
    "\n",
    "    # Create and train the KNN classifier\n",
    "    knn_clf = neighbors.KNeighborsClassifier(n_neighbors=n_neighbors, algorithm=knn_algo, weights='distance')\n",
    "    knn_clf.fit(X, y)\n",
    "\n",
    "    # Save the trained KNN classifier\n",
    "    if model_save_path is not None:\n",
    "        with open(model_save_path, 'wb') as f:\n",
    "            pickle.dump(knn_clf, f)\n",
    "\n",
    "    return knn_clf"
   ]
  },
  {
   "cell_type": "markdown",
   "metadata": {},
   "source": [
    "Recognizes faces in given image using a trained KNN classifier"
   ]
  },
  {
   "cell_type": "code",
   "execution_count": null,
   "metadata": {},
   "outputs": [],
   "source": [
    "def predict(X_img_path, knn_clf=None, model_path=None, distance_threshold=0.6):\n",
    "    \"\"\"\n",
    "    Recognizes faces in given image using a trained KNN classifier\n",
    "    :param X_img_path: path to image to be recognized\n",
    "    :param knn_clf: (optional) a knn classifier object. if not specified, model_save_path must be specified.\n",
    "    :param model_path: (optional) path to a pickled knn classifier. if not specified, model_save_path must be knn_clf.\n",
    "    :param distance_threshold: (optional) distance threshold for face classification. the larger it is, the more chance\n",
    "           of mis-classifying an unknown person as a known one.\n",
    "    :return: a list of names and face locations for the recognized faces in the image: [(name, bounding box), ...].\n",
    "        For faces of unrecognized persons, the name 'unknown' will be returned.\n",
    "    \"\"\"\n",
    "    \n",
    "    # Load a trained KNN model (if one was passed in)\n",
    "    if knn_clf is None:\n",
    "        with open(model_path, 'rb') as f:\n",
    "            knn_clf = pickle.load(f)\n",
    "\n",
    "    # Load image file and find face locations\n",
    "    X_img = face_recognition.load_image_file(X_img_path)\n",
    "    X_face_locations = face_recognition.face_locations(X_img)\n",
    "\n",
    "    # If no faces are found in the image, return an empty result.\n",
    "    if len(X_face_locations) == 0:\n",
    "        return []\n",
    "\n",
    "    # Find encodings for faces in the test iamge\n",
    "    faces_encodings = face_recognition.face_encodings(X_img, known_face_locations=X_face_locations)\n",
    "\n",
    "    # Use the KNN model to find the best matches for the test face\n",
    "    closest_distances = knn_clf.kneighbors(faces_encodings, n_neighbors=2)\n",
    "    are_matches = [closest_distances[0][i][0] <= distance_threshold for i in range(len(X_face_locations))]\n",
    "\n",
    "    # Predict classes and remove classifications that aren't within the threshold\n",
    "    return [(pred, loc) if rec else (\"unknown\", loc) for pred, loc, rec in zip(knn_clf.predict(faces_encodings), X_face_locations, are_matches)]\n"
   ]
  },
  {
   "cell_type": "markdown",
   "metadata": {},
   "source": [
    "Shows the face recognition results visually."
   ]
  },
  {
   "cell_type": "code",
   "execution_count": null,
   "metadata": {},
   "outputs": [],
   "source": [
    "def show_prediction_labels_on_image(img_path, predictions):\n",
    "    \"\"\"\n",
    "    :param img_path: path to image to be recognized\n",
    "    :param predictions: results of the predict function\n",
    "    :return:\n",
    "    \"\"\"\n",
    "    pil_image = plt.imread(img_path)\n",
    "    fig,ax = plt.subplots(1)\n",
    "    ax.imshow(pil_image)\n",
    "    \n",
    "    for name, (top, right, bottom, left) in predictions:\n",
    "        # Draw a box around the face using the Pillow module\n",
    "        color = tuple(np.random.rand(3))\n",
    "        ax.add_patch(patches.Rectangle((left, top), right-left, bottom-top, fill=False, color=color)) \n",
    "        # Add the name under the face bounding box\n",
    "        ax.text(left, bottom, name,  horizontalalignment='left', verticalalignment='top',\n",
    "                bbox={'facecolor':color,'alpha':0.4, 'pad':1})\n",
    "    plt.show()"
   ]
  },
  {
   "cell_type": "markdown",
   "metadata": {},
   "source": [
    "main function"
   ]
  },
  {
   "cell_type": "code",
   "execution_count": null,
   "metadata": {},
   "outputs": [],
   "source": [
    "if __name__ == \"__main__\":\n",
    "    # STEP 1: Train the KNN classifier and save it to disk\n",
    "    # Once the model is trained and saved, you can skip this step next time.\n",
    "    print(\"Training KNN classifier...\")\n",
    "    classifier = train(\"knn_examples/train\", model_save_path=\"out/trained_knn_model.clf\", n_neighbors=2)\n",
    "    print(\"Training complete!\")\n",
    "   \n",
    "    # STEP 2: Using the trained classifier, make predictions for unknown images\n",
    "    for image_file in os.listdir(\"knn_examples/test\"):\n",
    "        if image_file.endswith('.jpg'):\n",
    "    \n",
    "            full_file_path = os.path.join(\"knn_examples/test\", image_file)\n",
    "\n",
    "            print(\"Looking for faces in {}\".format(image_file))\n",
    "\n",
    "            # Find all people in the image using a trained classifier model\n",
    "            # Note: You can pass in either a classifier file name or a classifier model instance\n",
    "            predictions = predict(full_file_path, model_path=\"out/trained_knn_model.clf\")\n",
    "            \n",
    "            # Print results on the console\n",
    "            for name, (top, right, bottom, left) in predictions:\n",
    "                print(\"- Found {} at ({}, {})\".format(name, left, top))\n",
    "            \n",
    "            # Display results overlaid on an image\n",
    "            show_prediction_labels_on_image(os.path.join(\"knn_examples/test\", image_file), predictions)"
   ]
  },
  {
   "cell_type": "markdown",
   "metadata": {},
   "source": [
    "Now, do it for your own dataset"
   ]
  },
  {
   "cell_type": "code",
   "execution_count": null,
   "metadata": {},
   "outputs": [],
   "source": []
  },
  {
   "cell_type": "markdown",
   "metadata": {},
   "source": [
    "## 4. Detect faces from video and displays result in realtime"
   ]
  },
  {
   "cell_type": "code",
   "execution_count": null,
   "metadata": {},
   "outputs": [],
   "source": [
    "%pylab inline \n",
    "import cv2\n",
    "from IPython.display import clear_output\n",
    "from matplotlib.pyplot import imshow\n",
    "import matplotlib.pylab as plt\n",
    "\n",
    "# Loading video for face detection\n",
    "video_capture = cv2.VideoCapture(\"img/hamilton_clip.mp4\")\n",
    "\n",
    "frame_count = 0\n",
    "\n",
    "\n",
    "while video_capture.isOpened():    \n",
    "    # Grab a single frame of video\n",
    "    ret, frame = video_capture.read()\n",
    "    \n",
    "    # Bail out when the video file ends\n",
    "    if not ret:\n",
    "        video_capture.release()\n",
    "        break\n",
    "        \n",
    "    # We will search face in every 15 frames to speed up process.\n",
    "    frame_count += 1\n",
    "    if frame_count % 15 == 0:    \n",
    "        frame = cv2.cvtColor(frame, cv2.COLOR_BGR2RGB)\n",
    "\n",
    "        # Display video frame\n",
    "        title(\"Input Stream\")\n",
    "        plt.imshow(frame)        \n",
    "\n",
    "        # Find all the faces and face encodings in the current frame of video\n",
    "        rgb_frame = frame[:, :, ::-1]\n",
    "        face_locations = face_recognition.face_locations(rgb_frame)\n",
    "        \n",
    "        # If faces were found, we will mark it on frame with blue dots\n",
    "        for face_location in face_locations:        \n",
    "            plt.plot(face_location[1], face_location[0], 'bo')\n",
    "            plt.plot(face_location[1], face_location[2], 'bo')\n",
    "            plt.plot(face_location[3], face_location[2], 'bo')\n",
    "            plt.plot(face_location[3], face_location[0], 'bo')\n",
    "\n",
    "        # Show frame...\n",
    "        plt.show() \n",
    "        # ... and hold it until a new frame appears\n",
    "        clear_output(wait=True)\n"
   ]
  },
  {
   "cell_type": "markdown",
   "metadata": {},
   "source": [
    "Change the number of frame that you search for faces and see what happen"
   ]
  }
 ],
 "metadata": {
  "kernelspec": {
   "display_name": "Python 3",
   "language": "python",
   "name": "python3"
  },
  "language_info": {
   "codemirror_mode": {
    "name": "ipython",
    "version": 3
   },
   "file_extension": ".py",
   "mimetype": "text/x-python",
   "name": "python",
   "nbconvert_exporter": "python",
   "pygments_lexer": "ipython3",
   "version": "3.7.3"
  }
 },
 "nbformat": 4,
 "nbformat_minor": 2
}
